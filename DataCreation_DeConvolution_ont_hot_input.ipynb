{
  "nbformat": 4,
  "nbformat_minor": 0,
  "metadata": {
    "colab": {
      "name": "DataCreation_DeConvolution_ont_hot_input.ipynb",
      "provenance": [],
      "authorship_tag": "ABX9TyOL4vI3wtlceEfZjizeCcwA",
      "include_colab_link": true
    },
    "kernelspec": {
      "name": "python3",
      "display_name": "Python 3"
    },
    "language_info": {
      "name": "python"
    },
    "accelerator": "GPU"
  },
  "cells": [
    {
      "cell_type": "markdown",
      "metadata": {
        "id": "view-in-github",
        "colab_type": "text"
      },
      "source": [
        "<a href=\"https://colab.research.google.com/github/ZenoZoldyck/Data_Creation/blob/main/DataCreation_DeConvolution_ont_hot_input.ipynb\" target=\"_parent\"><img src=\"https://colab.research.google.com/assets/colab-badge.svg\" alt=\"Open In Colab\"/></a>"
      ]
    },
    {
      "cell_type": "code",
      "metadata": {
        "colab": {
          "base_uri": "https://localhost:8080/",
          "height": 35
        },
        "id": "FwXC5_ErFXD3",
        "outputId": "c340e896-edef-4315-81d7-279c54974f70"
      },
      "source": [
        "\n",
        "import tensorflow as tf\n",
        "import pandas as pd\n",
        "import numpy as np\n",
        "import matplotlib.pyplot as plt\n",
        "\n",
        "tf.__version__"
      ],
      "execution_count": 1,
      "outputs": [
        {
          "output_type": "execute_result",
          "data": {
            "application/vnd.google.colaboratory.intrinsic+json": {
              "type": "string"
            },
            "text/plain": [
              "'2.5.0'"
            ]
          },
          "metadata": {
            "tags": []
          },
          "execution_count": 1
        }
      ]
    },
    {
      "cell_type": "code",
      "metadata": {
        "colab": {
          "base_uri": "https://localhost:8080/"
        },
        "id": "fJo-Q-MTMlD5",
        "outputId": "5fce8cd1-efe0-41f2-924f-3aee7792a23b"
      },
      "source": [
        "(train_data, train_label), (test_data, test_label) = tf.keras.datasets.mnist.load_data()"
      ],
      "execution_count": 2,
      "outputs": [
        {
          "output_type": "stream",
          "text": [
            "Downloading data from https://storage.googleapis.com/tensorflow/tf-keras-datasets/mnist.npz\n",
            "11493376/11490434 [==============================] - 0s 0us/step\n"
          ],
          "name": "stdout"
        }
      ]
    },
    {
      "cell_type": "code",
      "metadata": {
        "id": "v1OYqkeAMtaU"
      },
      "source": [
        "train_data = np.array(train_data)"
      ],
      "execution_count": 3,
      "outputs": []
    },
    {
      "cell_type": "code",
      "metadata": {
        "id": "cyzPxcmKM1Ah"
      },
      "source": [
        "data = []\n",
        "for i in range(60000) :\n",
        "  a = tf.random.normal([100])\n",
        "  data.append(a)"
      ],
      "execution_count": 4,
      "outputs": []
    },
    {
      "cell_type": "code",
      "metadata": {
        "colab": {
          "base_uri": "https://localhost:8080/"
        },
        "id": "mjn5N2cVM6UO",
        "outputId": "5d3b6b8e-4e5b-4d3a-d875-e09f1f240245"
      },
      "source": [
        "data_1 = np.array(data)\n",
        "data_1.shape"
      ],
      "execution_count": 5,
      "outputs": [
        {
          "output_type": "execute_result",
          "data": {
            "text/plain": [
              "(60000, 100)"
            ]
          },
          "metadata": {
            "tags": []
          },
          "execution_count": 5
        }
      ]
    },
    {
      "cell_type": "code",
      "metadata": {
        "id": "miOxzAtwNB77"
      },
      "source": [
        "train_data_norm = train_data / 255"
      ],
      "execution_count": 6,
      "outputs": []
    },
    {
      "cell_type": "code",
      "metadata": {
        "id": "smhTD2QBXa0O"
      },
      "source": [
        "train_data_norm_1 = tf.reshape(train_data_norm, shape=(60000, 28, 28, 1))"
      ],
      "execution_count": 7,
      "outputs": []
    },
    {
      "cell_type": "code",
      "metadata": {
        "colab": {
          "base_uri": "https://localhost:8080/"
        },
        "id": "0xEBEnY--yvD",
        "outputId": "ab0a5a10-6905-4406-de49-0f77429c1cdc"
      },
      "source": [
        "train_label[0]"
      ],
      "execution_count": 9,
      "outputs": [
        {
          "output_type": "execute_result",
          "data": {
            "text/plain": [
              "5"
            ]
          },
          "metadata": {
            "tags": []
          },
          "execution_count": 9
        }
      ]
    },
    {
      "cell_type": "code",
      "metadata": {
        "id": "qG7Yh-_6_AEt"
      },
      "source": [
        "train_label_1 = tf.one_hot(train_label, depth = 10)"
      ],
      "execution_count": 10,
      "outputs": []
    },
    {
      "cell_type": "code",
      "metadata": {
        "colab": {
          "base_uri": "https://localhost:8080/"
        },
        "id": "r1j4I5We_Q8l",
        "outputId": "f60d7f61-5a38-4edc-bb3f-82bc5e947cf2"
      },
      "source": [
        "train_label_1.shape"
      ],
      "execution_count": 11,
      "outputs": [
        {
          "output_type": "execute_result",
          "data": {
            "text/plain": [
              "TensorShape([60000, 10])"
            ]
          },
          "metadata": {
            "tags": []
          },
          "execution_count": 11
        }
      ]
    },
    {
      "cell_type": "code",
      "metadata": {
        "id": "MQLHHxDJ_Umk"
      },
      "source": [
        ""
      ],
      "execution_count": null,
      "outputs": []
    },
    {
      "cell_type": "code",
      "metadata": {
        "colab": {
          "base_uri": "https://localhost:8080/",
          "height": 1000
        },
        "id": "T84IMoBdNGYO",
        "outputId": "361e52f6-9ae3-4d55-b04e-0ade1b3e42b0"
      },
      "source": [
        "model_1 = tf.keras.Sequential([\n",
        "   tf.keras.layers.Dense(7*7*256, input_dim=10),\n",
        "   tf.keras.layers.Reshape((7, 7, 256)),                          \n",
        "   tf.keras.layers.Conv2DTranspose(128, (3, 3), use_bias=False, strides=2, padding=\"same\"),\n",
        "   tf.keras.layers.BatchNormalization(),\n",
        "   tf.keras.layers.LeakyReLU(alpha=0.01),\n",
        "   tf.keras.layers.Conv2DTranspose(64, (3, 3), use_bias=False, strides=1, padding=\"same\"),\n",
        "   tf.keras.layers.BatchNormalization(),\n",
        "   tf.keras.layers.LeakyReLU(alpha=0.01),\n",
        "   tf.keras.layers.Conv2DTranspose(1, (3, 3), use_bias=False, strides=2, padding=\"same\", activation = \"tanh\")                          \n",
        "])\n",
        "\n",
        "model_1.compile(loss = tf.keras.losses.mse,\n",
        "              optimizer = tf.keras.optimizers.Adam(lr = 0.0005),\n",
        "              metrics=[\"accuracy\"])\n",
        "history = model_1.fit(train_label_1, train_data_norm_1, epochs=200) \n"
      ],
      "execution_count": 32,
      "outputs": [
        {
          "output_type": "stream",
          "text": [
            "/usr/local/lib/python3.7/dist-packages/tensorflow/python/keras/optimizer_v2/optimizer_v2.py:375: UserWarning: The `lr` argument is deprecated, use `learning_rate` instead.\n",
            "  \"The `lr` argument is deprecated, use `learning_rate` instead.\")\n"
          ],
          "name": "stderr"
        },
        {
          "output_type": "stream",
          "text": [
            "Epoch 1/200\n",
            "1875/1875 [==============================] - 8s 4ms/step - loss: 0.0545 - accuracy: 0.7929\n",
            "Epoch 2/200\n",
            "1875/1875 [==============================] - 8s 4ms/step - loss: 0.0537 - accuracy: 0.7936\n",
            "Epoch 3/200\n",
            "1875/1875 [==============================] - 8s 4ms/step - loss: 0.0536 - accuracy: 0.7936\n",
            "Epoch 4/200\n",
            "1875/1875 [==============================] - 8s 4ms/step - loss: 0.0536 - accuracy: 0.7936\n",
            "Epoch 5/200\n",
            "1875/1875 [==============================] - 8s 4ms/step - loss: 0.0535 - accuracy: 0.7936\n",
            "Epoch 6/200\n",
            "1875/1875 [==============================] - 8s 4ms/step - loss: 0.0535 - accuracy: 0.7937\n",
            "Epoch 7/200\n",
            "1875/1875 [==============================] - 8s 4ms/step - loss: 0.0535 - accuracy: 0.7936\n",
            "Epoch 8/200\n",
            "1875/1875 [==============================] - 8s 4ms/step - loss: 0.0535 - accuracy: 0.7937\n",
            "Epoch 9/200\n",
            "1875/1875 [==============================] - 8s 4ms/step - loss: 0.0535 - accuracy: 0.7937\n",
            "Epoch 10/200\n",
            "1875/1875 [==============================] - 8s 4ms/step - loss: 0.0534 - accuracy: 0.7937\n",
            "Epoch 11/200\n",
            "1875/1875 [==============================] - 8s 4ms/step - loss: 0.0534 - accuracy: 0.7937\n",
            "Epoch 12/200\n",
            "1875/1875 [==============================] - 8s 4ms/step - loss: 0.0534 - accuracy: 0.7936\n",
            "Epoch 13/200\n",
            "1875/1875 [==============================] - 8s 4ms/step - loss: 0.0534 - accuracy: 0.7937\n",
            "Epoch 14/200\n",
            "1875/1875 [==============================] - 8s 4ms/step - loss: 0.0534 - accuracy: 0.7937\n",
            "Epoch 15/200\n",
            "1875/1875 [==============================] - 8s 4ms/step - loss: 0.0534 - accuracy: 0.7937\n",
            "Epoch 16/200\n",
            "1875/1875 [==============================] - 8s 4ms/step - loss: 0.0534 - accuracy: 0.7937\n",
            "Epoch 17/200\n",
            "1875/1875 [==============================] - 8s 4ms/step - loss: 0.0534 - accuracy: 0.7937\n",
            "Epoch 18/200\n",
            "1875/1875 [==============================] - 8s 4ms/step - loss: 0.0534 - accuracy: 0.7937\n",
            "Epoch 19/200\n",
            "1875/1875 [==============================] - 8s 4ms/step - loss: 0.0534 - accuracy: 0.7937\n",
            "Epoch 20/200\n",
            "1875/1875 [==============================] - 8s 4ms/step - loss: 0.0534 - accuracy: 0.7936\n",
            "Epoch 21/200\n",
            "1875/1875 [==============================] - 8s 4ms/step - loss: 0.0534 - accuracy: 0.7937\n",
            "Epoch 22/200\n",
            "1875/1875 [==============================] - 8s 4ms/step - loss: 0.0534 - accuracy: 0.7937\n",
            "Epoch 23/200\n",
            "1875/1875 [==============================] - 8s 4ms/step - loss: 0.0534 - accuracy: 0.7937\n",
            "Epoch 24/200\n",
            "1875/1875 [==============================] - 8s 4ms/step - loss: 0.0534 - accuracy: 0.7937\n",
            "Epoch 25/200\n",
            "1875/1875 [==============================] - 8s 4ms/step - loss: 0.0534 - accuracy: 0.7937\n",
            "Epoch 26/200\n",
            "1875/1875 [==============================] - 8s 4ms/step - loss: 0.0534 - accuracy: 0.7936\n",
            "Epoch 27/200\n",
            "1875/1875 [==============================] - 8s 4ms/step - loss: 0.0534 - accuracy: 0.7937\n",
            "Epoch 28/200\n",
            "1875/1875 [==============================] - 8s 4ms/step - loss: 0.0534 - accuracy: 0.7937\n",
            "Epoch 29/200\n",
            "1875/1875 [==============================] - 8s 4ms/step - loss: 0.0534 - accuracy: 0.7937\n",
            "Epoch 30/200\n",
            "1875/1875 [==============================] - 8s 4ms/step - loss: 0.0534 - accuracy: 0.7937\n",
            "Epoch 31/200\n",
            "1875/1875 [==============================] - 8s 4ms/step - loss: 0.0534 - accuracy: 0.7936\n",
            "Epoch 32/200\n",
            "1875/1875 [==============================] - 8s 4ms/step - loss: 0.0534 - accuracy: 0.7937\n",
            "Epoch 33/200\n",
            "1875/1875 [==============================] - 8s 4ms/step - loss: 0.0534 - accuracy: 0.7937\n",
            "Epoch 34/200\n",
            "1875/1875 [==============================] - 8s 4ms/step - loss: 0.0534 - accuracy: 0.7936\n",
            "Epoch 35/200\n",
            "1875/1875 [==============================] - 8s 4ms/step - loss: 0.0534 - accuracy: 0.7937\n",
            "Epoch 36/200\n",
            "1875/1875 [==============================] - 8s 4ms/step - loss: 0.0534 - accuracy: 0.7937\n",
            "Epoch 37/200\n",
            "1875/1875 [==============================] - 8s 4ms/step - loss: 0.0534 - accuracy: 0.7937\n",
            "Epoch 38/200\n",
            "1875/1875 [==============================] - 8s 4ms/step - loss: 0.0534 - accuracy: 0.7937\n",
            "Epoch 39/200\n",
            "1875/1875 [==============================] - 8s 4ms/step - loss: 0.0534 - accuracy: 0.7937\n",
            "Epoch 40/200\n",
            "1875/1875 [==============================] - 8s 4ms/step - loss: 0.0534 - accuracy: 0.7937\n",
            "Epoch 41/200\n",
            "1875/1875 [==============================] - 8s 4ms/step - loss: 0.0534 - accuracy: 0.7937\n",
            "Epoch 42/200\n",
            "1875/1875 [==============================] - 8s 4ms/step - loss: 0.0534 - accuracy: 0.7937\n",
            "Epoch 43/200\n",
            "1875/1875 [==============================] - 8s 4ms/step - loss: 0.0534 - accuracy: 0.7937\n",
            "Epoch 44/200\n",
            "1875/1875 [==============================] - 8s 4ms/step - loss: 0.0534 - accuracy: 0.7937\n",
            "Epoch 45/200\n",
            "1875/1875 [==============================] - 8s 4ms/step - loss: 0.0534 - accuracy: 0.7937\n",
            "Epoch 46/200\n",
            "1875/1875 [==============================] - 8s 4ms/step - loss: 0.0534 - accuracy: 0.7937\n",
            "Epoch 47/200\n",
            "1875/1875 [==============================] - 8s 4ms/step - loss: 0.0534 - accuracy: 0.7937\n",
            "Epoch 48/200\n",
            "1875/1875 [==============================] - 8s 4ms/step - loss: 0.0534 - accuracy: 0.7937\n",
            "Epoch 49/200\n",
            "1875/1875 [==============================] - 8s 4ms/step - loss: 0.0534 - accuracy: 0.7937\n",
            "Epoch 50/200\n",
            "1875/1875 [==============================] - 8s 4ms/step - loss: 0.0534 - accuracy: 0.7937\n",
            "Epoch 51/200\n",
            "1875/1875 [==============================] - 8s 4ms/step - loss: 0.0534 - accuracy: 0.7937\n",
            "Epoch 52/200\n",
            "1875/1875 [==============================] - 8s 4ms/step - loss: 0.0534 - accuracy: 0.7937\n",
            "Epoch 53/200\n",
            "1875/1875 [==============================] - 8s 4ms/step - loss: 0.0534 - accuracy: 0.7936\n",
            "Epoch 54/200\n",
            "1875/1875 [==============================] - 8s 4ms/step - loss: 0.0534 - accuracy: 0.7937\n",
            "Epoch 55/200\n",
            "1875/1875 [==============================] - 8s 4ms/step - loss: 0.0534 - accuracy: 0.7937\n",
            "Epoch 56/200\n",
            "1875/1875 [==============================] - 8s 4ms/step - loss: 0.0534 - accuracy: 0.7937\n",
            "Epoch 57/200\n",
            "1875/1875 [==============================] - 8s 4ms/step - loss: 0.0534 - accuracy: 0.7937\n",
            "Epoch 58/200\n",
            "1875/1875 [==============================] - 8s 4ms/step - loss: 0.0534 - accuracy: 0.7937\n",
            "Epoch 59/200\n",
            "1875/1875 [==============================] - 8s 4ms/step - loss: 0.0534 - accuracy: 0.7937\n",
            "Epoch 60/200\n",
            "1875/1875 [==============================] - 8s 4ms/step - loss: 0.0534 - accuracy: 0.7937\n",
            "Epoch 61/200\n",
            "1875/1875 [==============================] - 8s 4ms/step - loss: 0.0534 - accuracy: 0.7936\n",
            "Epoch 62/200\n",
            "1875/1875 [==============================] - 8s 4ms/step - loss: 0.0534 - accuracy: 0.7937\n",
            "Epoch 63/200\n",
            "1875/1875 [==============================] - 8s 4ms/step - loss: 0.0534 - accuracy: 0.7937\n",
            "Epoch 64/200\n",
            "1875/1875 [==============================] - 8s 4ms/step - loss: 0.0534 - accuracy: 0.7936\n",
            "Epoch 65/200\n",
            "1875/1875 [==============================] - 8s 4ms/step - loss: 0.0534 - accuracy: 0.7937\n",
            "Epoch 66/200\n",
            "1875/1875 [==============================] - 8s 4ms/step - loss: 0.0534 - accuracy: 0.7937\n",
            "Epoch 67/200\n",
            "1875/1875 [==============================] - 8s 4ms/step - loss: 0.0534 - accuracy: 0.7937\n",
            "Epoch 68/200\n",
            "1875/1875 [==============================] - 8s 4ms/step - loss: 0.0534 - accuracy: 0.7937\n",
            "Epoch 69/200\n",
            "1875/1875 [==============================] - 8s 4ms/step - loss: 0.0534 - accuracy: 0.7937\n",
            "Epoch 70/200\n",
            "1875/1875 [==============================] - 8s 4ms/step - loss: 0.0534 - accuracy: 0.7937\n",
            "Epoch 71/200\n",
            "1875/1875 [==============================] - 8s 4ms/step - loss: 0.0534 - accuracy: 0.7937\n",
            "Epoch 72/200\n",
            "1875/1875 [==============================] - 8s 4ms/step - loss: 0.0534 - accuracy: 0.7937\n",
            "Epoch 73/200\n",
            "1875/1875 [==============================] - 8s 4ms/step - loss: 0.0534 - accuracy: 0.7937\n",
            "Epoch 74/200\n",
            "1875/1875 [==============================] - 8s 4ms/step - loss: 0.0534 - accuracy: 0.7937\n",
            "Epoch 75/200\n",
            "1875/1875 [==============================] - 8s 4ms/step - loss: 0.0534 - accuracy: 0.7937\n",
            "Epoch 76/200\n",
            "1875/1875 [==============================] - 8s 4ms/step - loss: 0.0534 - accuracy: 0.7937\n",
            "Epoch 77/200\n",
            "1875/1875 [==============================] - 8s 4ms/step - loss: 0.0534 - accuracy: 0.7937\n",
            "Epoch 78/200\n",
            "1875/1875 [==============================] - 8s 4ms/step - loss: 0.0534 - accuracy: 0.7937\n",
            "Epoch 79/200\n",
            "1875/1875 [==============================] - 8s 4ms/step - loss: 0.0534 - accuracy: 0.7937\n",
            "Epoch 80/200\n",
            "1875/1875 [==============================] - 8s 4ms/step - loss: 0.0534 - accuracy: 0.7937\n",
            "Epoch 81/200\n",
            "1875/1875 [==============================] - 8s 4ms/step - loss: 0.0534 - accuracy: 0.7937\n",
            "Epoch 82/200\n",
            "1875/1875 [==============================] - 8s 4ms/step - loss: 0.0534 - accuracy: 0.7937\n",
            "Epoch 83/200\n",
            "1875/1875 [==============================] - 8s 4ms/step - loss: 0.0534 - accuracy: 0.7937\n",
            "Epoch 84/200\n",
            "1875/1875 [==============================] - 8s 4ms/step - loss: 0.0534 - accuracy: 0.7937\n",
            "Epoch 85/200\n",
            "1875/1875 [==============================] - 8s 4ms/step - loss: 0.0534 - accuracy: 0.7937\n",
            "Epoch 86/200\n",
            "1875/1875 [==============================] - 8s 4ms/step - loss: 0.0534 - accuracy: 0.7937\n",
            "Epoch 87/200\n",
            "1875/1875 [==============================] - 8s 4ms/step - loss: 0.0534 - accuracy: 0.7937\n",
            "Epoch 88/200\n",
            "1875/1875 [==============================] - 8s 4ms/step - loss: 0.0534 - accuracy: 0.7937\n",
            "Epoch 89/200\n",
            " 348/1875 [====>.........................] - ETA: 6s - loss: 0.0531 - accuracy: 0.7943"
          ],
          "name": "stdout"
        },
        {
          "output_type": "error",
          "ename": "KeyboardInterrupt",
          "evalue": "ignored",
          "traceback": [
            "\u001b[0;31m---------------------------------------------------------------------------\u001b[0m",
            "\u001b[0;31mKeyboardInterrupt\u001b[0m                         Traceback (most recent call last)",
            "\u001b[0;32m<ipython-input-32-929e3f8b232f>\u001b[0m in \u001b[0;36m<module>\u001b[0;34m()\u001b[0m\n\u001b[1;32m     14\u001b[0m               \u001b[0moptimizer\u001b[0m \u001b[0;34m=\u001b[0m \u001b[0mtf\u001b[0m\u001b[0;34m.\u001b[0m\u001b[0mkeras\u001b[0m\u001b[0;34m.\u001b[0m\u001b[0moptimizers\u001b[0m\u001b[0;34m.\u001b[0m\u001b[0mAdam\u001b[0m\u001b[0;34m(\u001b[0m\u001b[0mlr\u001b[0m \u001b[0;34m=\u001b[0m \u001b[0;36m0.0005\u001b[0m\u001b[0;34m)\u001b[0m\u001b[0;34m,\u001b[0m\u001b[0;34m\u001b[0m\u001b[0;34m\u001b[0m\u001b[0m\n\u001b[1;32m     15\u001b[0m               metrics=[\"accuracy\"])\n\u001b[0;32m---> 16\u001b[0;31m \u001b[0mhistory\u001b[0m \u001b[0;34m=\u001b[0m \u001b[0mmodel_1\u001b[0m\u001b[0;34m.\u001b[0m\u001b[0mfit\u001b[0m\u001b[0;34m(\u001b[0m\u001b[0mtrain_label_1\u001b[0m\u001b[0;34m,\u001b[0m \u001b[0mtrain_data_norm_1\u001b[0m\u001b[0;34m,\u001b[0m \u001b[0mepochs\u001b[0m\u001b[0;34m=\u001b[0m\u001b[0;36m200\u001b[0m\u001b[0;34m)\u001b[0m\u001b[0;34m\u001b[0m\u001b[0;34m\u001b[0m\u001b[0m\n\u001b[0m",
            "\u001b[0;32m/usr/local/lib/python3.7/dist-packages/tensorflow/python/keras/engine/training.py\u001b[0m in \u001b[0;36mfit\u001b[0;34m(self, x, y, batch_size, epochs, verbose, callbacks, validation_split, validation_data, shuffle, class_weight, sample_weight, initial_epoch, steps_per_epoch, validation_steps, validation_batch_size, validation_freq, max_queue_size, workers, use_multiprocessing)\u001b[0m\n\u001b[1;32m   1173\u001b[0m         \u001b[0mcallbacks\u001b[0m\u001b[0;34m.\u001b[0m\u001b[0mon_epoch_begin\u001b[0m\u001b[0;34m(\u001b[0m\u001b[0mepoch\u001b[0m\u001b[0;34m)\u001b[0m\u001b[0;34m\u001b[0m\u001b[0;34m\u001b[0m\u001b[0m\n\u001b[1;32m   1174\u001b[0m         \u001b[0;32mwith\u001b[0m \u001b[0mdata_handler\u001b[0m\u001b[0;34m.\u001b[0m\u001b[0mcatch_stop_iteration\u001b[0m\u001b[0;34m(\u001b[0m\u001b[0;34m)\u001b[0m\u001b[0;34m:\u001b[0m\u001b[0;34m\u001b[0m\u001b[0;34m\u001b[0m\u001b[0m\n\u001b[0;32m-> 1175\u001b[0;31m           \u001b[0;32mfor\u001b[0m \u001b[0mstep\u001b[0m \u001b[0;32min\u001b[0m \u001b[0mdata_handler\u001b[0m\u001b[0;34m.\u001b[0m\u001b[0msteps\u001b[0m\u001b[0;34m(\u001b[0m\u001b[0;34m)\u001b[0m\u001b[0;34m:\u001b[0m\u001b[0;34m\u001b[0m\u001b[0;34m\u001b[0m\u001b[0m\n\u001b[0m\u001b[1;32m   1176\u001b[0m             with trace.Trace(\n\u001b[1;32m   1177\u001b[0m                 \u001b[0;34m'train'\u001b[0m\u001b[0;34m,\u001b[0m\u001b[0;34m\u001b[0m\u001b[0;34m\u001b[0m\u001b[0m\n",
            "\u001b[0;32m/usr/local/lib/python3.7/dist-packages/tensorflow/python/keras/engine/data_adapter.py\u001b[0m in \u001b[0;36msteps\u001b[0;34m(self)\u001b[0m\n\u001b[1;32m   1262\u001b[0m \u001b[0;34m\u001b[0m\u001b[0m\n\u001b[1;32m   1263\u001b[0m       \u001b[0;32mif\u001b[0m \u001b[0mcan_run_full_execution\u001b[0m\u001b[0;34m:\u001b[0m\u001b[0;34m\u001b[0m\u001b[0;34m\u001b[0m\u001b[0m\n\u001b[0;32m-> 1264\u001b[0;31m         \u001b[0mself\u001b[0m\u001b[0;34m.\u001b[0m\u001b[0m_step_increment\u001b[0m \u001b[0;34m=\u001b[0m \u001b[0mself\u001b[0m\u001b[0;34m.\u001b[0m\u001b[0m_steps_per_execution_value\u001b[0m \u001b[0;34m-\u001b[0m \u001b[0;36m1\u001b[0m\u001b[0;34m\u001b[0m\u001b[0;34m\u001b[0m\u001b[0m\n\u001b[0m\u001b[1;32m   1265\u001b[0m         \u001b[0;32myield\u001b[0m \u001b[0mself\u001b[0m\u001b[0;34m.\u001b[0m\u001b[0m_current_step\u001b[0m\u001b[0;34m\u001b[0m\u001b[0;34m\u001b[0m\u001b[0m\n\u001b[1;32m   1266\u001b[0m         \u001b[0mself\u001b[0m\u001b[0;34m.\u001b[0m\u001b[0m_current_step\u001b[0m \u001b[0;34m+=\u001b[0m \u001b[0mself\u001b[0m\u001b[0;34m.\u001b[0m\u001b[0m_steps_per_execution_value\u001b[0m\u001b[0;34m\u001b[0m\u001b[0;34m\u001b[0m\u001b[0m\n",
            "\u001b[0;31mKeyboardInterrupt\u001b[0m: "
          ]
        }
      ]
    },
    {
      "cell_type": "code",
      "metadata": {
        "id": "BaZX042Jcnlj"
      },
      "source": [
        "data_2 = []\n",
        "for i in range(1000) :\n",
        "  a = tf.random.normal([100])\n",
        "  data_2.append(a)\n",
        "data_2 = np.array(data_2)"
      ],
      "execution_count": 33,
      "outputs": []
    },
    {
      "cell_type": "code",
      "metadata": {
        "id": "9l8c0xexdA6g"
      },
      "source": [
        "y_pred = model_1.predict(tf.one_hot(test_label, depth = 10))"
      ],
      "execution_count": 34,
      "outputs": []
    },
    {
      "cell_type": "code",
      "metadata": {
        "colab": {
          "base_uri": "https://localhost:8080/",
          "height": 281
        },
        "id": "_Ubxe1_YdE6z",
        "outputId": "2091246c-906a-44ea-b269-9495e6b550fa"
      },
      "source": [
        "plt.imshow(tf.squeeze(y_pred[5000]), cmap = \"gray\")"
      ],
      "execution_count": 38,
      "outputs": [
        {
          "output_type": "execute_result",
          "data": {
            "text/plain": [
              "<matplotlib.image.AxesImage at 0x7fa3cc10f510>"
            ]
          },
          "metadata": {
            "tags": []
          },
          "execution_count": 38
        },
        {
          "output_type": "display_data",
          "data": {
            "image/png": "[encoded data removed]",
            "text/plain": [
              "<Figure size 432x288 with 1 Axes>"
            ]
          },
          "metadata": {
            "tags": [],
            "needs_background": "light"
          }
        }
      ]
    },
    {
      "cell_type": "code",
      "metadata": {
        "colab": {
          "base_uri": "https://localhost:8080/",
          "height": 281
        },
        "id": "xaXJIDkrCNex",
        "outputId": "4aeae381-70e4-452f-9bce-6808710f018a"
      },
      "source": [
        "plt.imshow(test_data[5000], cmap=\"gray\")"
      ],
      "execution_count": 37,
      "outputs": [
        {
          "output_type": "execute_result",
          "data": {
            "text/plain": [
              "<matplotlib.image.AxesImage at 0x7fa3cc1297d0>"
            ]
          },
          "metadata": {
            "tags": []
          },
          "execution_count": 37
        },
        {
          "output_type": "display_data",
          "data": {
            "image/png": "[encoded data removed]",
            "text/plain": [
              "<Figure size 432x288 with 1 Axes>"
            ]
          },
          "metadata": {
            "tags": [],
            "needs_background": "light"
          }
        }
      ]
    },
    {
      "cell_type": "code",
      "metadata": {
        "colab": {
          "base_uri": "https://localhost:8080/"
        },
        "id": "iUkC89q6B3VF",
        "outputId": "30fd7edd-6ffe-4379-f6e1-9b3912e0d203"
      },
      "source": [
        "test_label[5000]"
      ],
      "execution_count": 36,
      "outputs": [
        {
          "output_type": "execute_result",
          "data": {
            "text/plain": [
              "3"
            ]
          },
          "metadata": {
            "tags": []
          },
          "execution_count": 36
        }
      ]
    },
    {
      "cell_type": "code",
      "metadata": {
        "colab": {
          "base_uri": "https://localhost:8080/",
          "height": 281
        },
        "id": "6YKPEbxudedn",
        "outputId": "1b3cd84c-d68f-4979-cf8e-e83e9bb2f951"
      },
      "source": [
        "pd.DataFrame(history.history).plot()"
      ],
      "execution_count": 14,
      "outputs": [
        {
          "output_type": "execute_result",
          "data": {
            "text/plain": [
              "<matplotlib.axes._subplots.AxesSubplot at 0x7fa3e85c51d0>"
            ]
          },
          "metadata": {
            "tags": []
          },
          "execution_count": 14
        },
        {
          "output_type": "display_data",
          "data": {
            "image/png": "[encoded data removed]",
            "text/plain": [
              "<Figure size 432x288 with 1 Axes>"
            ]
          },
          "metadata": {
            "tags": [],
            "needs_background": "light"
          }
        }
      ]
    }
  ]
}