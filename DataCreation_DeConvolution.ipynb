{
  "nbformat": 4,
  "nbformat_minor": 0,
  "metadata": {
    "colab": {
      "name": "DataCreation_DeConvolution.ipynb",
      "provenance": [],
      "authorship_tag": "ABX9TyOVwltUDI72HrPl7WrDJc/S",
      "include_colab_link": true
    },
    "kernelspec": {
      "name": "python3",
      "display_name": "Python 3"
    },
    "language_info": {
      "name": "python"
    },
    "accelerator": "GPU"
  },
  "cells": [
    {
      "cell_type": "markdown",
      "metadata": {
        "id": "view-in-github",
        "colab_type": "text"
      },
      "source": [
        "<a href=\"https://colab.research.google.com/github/ZenoZoldyck/Data_Creation/blob/main/DataCreation_DeConvolution.ipynb\" target=\"_parent\"><img src=\"https://colab.research.google.com/assets/colab-badge.svg\" alt=\"Open In Colab\"/></a>"
      ]
    },
    {
      "cell_type": "code",
      "metadata": {
        "colab": {
          "base_uri": "https://localhost:8080/",
          "height": 35
        },
        "id": "FwXC5_ErFXD3",
        "outputId": "45266755-78a8-4b33-ccca-9276a81b893c"
      },
      "source": [
        "\n",
        "import tensorflow as tf\n",
        "import pandas as pd\n",
        "import numpy as np\n",
        "import matplotlib.pyplot as plt\n",
        "\n",
        "tf.__version__"
      ],
      "execution_count": 1,
      "outputs": [
        {
          "output_type": "execute_result",
          "data": {
            "application/vnd.google.colaboratory.intrinsic+json": {
              "type": "string"
            },
            "text/plain": [
              "'2.5.0'"
            ]
          },
          "metadata": {
            "tags": []
          },
          "execution_count": 1
        }
      ]
    },
    {
      "cell_type": "code",
      "metadata": {
        "colab": {
          "base_uri": "https://localhost:8080/"
        },
        "id": "fJo-Q-MTMlD5",
        "outputId": "25a1ea73-3574-4d91-835f-341530b879ba"
      },
      "source": [
        "(train_data, train_label), (test_data, test_label) = tf.keras.datasets.mnist.load_data()"
      ],
      "execution_count": 2,
      "outputs": [
        {
          "output_type": "stream",
          "text": [
            "Downloading data from https://storage.googleapis.com/tensorflow/tf-keras-datasets/mnist.npz\n",
            "11493376/11490434 [==============================] - 0s 0us/step\n"
          ],
          "name": "stdout"
        }
      ]
    },
    {
      "cell_type": "code",
      "metadata": {
        "id": "v1OYqkeAMtaU"
      },
      "source": [
        "train_data = np.array(train_data)"
      ],
      "execution_count": 3,
      "outputs": []
    },
    {
      "cell_type": "code",
      "metadata": {
        "id": "cyzPxcmKM1Ah"
      },
      "source": [
        "data = []\n",
        "for i in range(60000) :\n",
        "  a = tf.random.normal([100])\n",
        "  data.append(a)"
      ],
      "execution_count": 4,
      "outputs": []
    },
    {
      "cell_type": "code",
      "metadata": {
        "colab": {
          "base_uri": "https://localhost:8080/"
        },
        "id": "mjn5N2cVM6UO",
        "outputId": "c43ad597-ebc7-4942-e516-c3c61d9d7663"
      },
      "source": [
        "data_1 = np.array(data)\n",
        "data_1.shape"
      ],
      "execution_count": 5,
      "outputs": [
        {
          "output_type": "execute_result",
          "data": {
            "text/plain": [
              "(60000, 100)"
            ]
          },
          "metadata": {
            "tags": []
          },
          "execution_count": 5
        }
      ]
    },
    {
      "cell_type": "code",
      "metadata": {
        "id": "miOxzAtwNB77"
      },
      "source": [
        "train_data_norm = train_data / 255"
      ],
      "execution_count": 6,
      "outputs": []
    },
    {
      "cell_type": "code",
      "metadata": {
        "id": "smhTD2QBXa0O"
      },
      "source": [
        "train_data_norm_1 = tf.reshape(train_data_norm, shape=(60000, 28, 28, 1))"
      ],
      "execution_count": 7,
      "outputs": []
    },
    {
      "cell_type": "code",
      "metadata": {
        "colab": {
          "base_uri": "https://localhost:8080/"
        },
        "id": "T84IMoBdNGYO",
        "outputId": "334ab658-2cca-4740-c886-f68771820925"
      },
      "source": [
        "model = tf.keras.Sequential([\n",
        "   tf.keras.layers.Dense(7*7*256, input_dim=100),\n",
        "   tf.keras.layers.Reshape((7, 7, 256)),                          \n",
        "   tf.keras.layers.Conv2DTranspose(128, (3, 3), use_bias=False, strides=2, padding=\"same\"),\n",
        "   tf.keras.layers.BatchNormalization(),\n",
        "   tf.keras.layers.LeakyReLU(alpha=0.01),\n",
        "   tf.keras.layers.Conv2DTranspose(64, (3, 3), use_bias=False, strides=1, padding=\"same\"),\n",
        "   tf.keras.layers.BatchNormalization(),\n",
        "   tf.keras.layers.LeakyReLU(alpha=0.01),\n",
        "   tf.keras.layers.Conv2DTranspose(1, (3, 3), use_bias=False, strides=2, padding=\"same\", activation = \"tanh\")                          \n",
        "])\n",
        "\n",
        "model.compile(loss = tf.keras.losses.mse,\n",
        "              optimizer = tf.keras.optimizers.Adam(lr = 0.0005),\n",
        "              metrics=[\"accuracy\"])\n",
        "history = model.fit(data_1, train_data_norm_1, epochs=50) \n"
      ],
      "execution_count": 27,
      "outputs": [
        {
          "output_type": "stream",
          "text": [
            "/usr/local/lib/python3.7/dist-packages/tensorflow/python/keras/optimizer_v2/optimizer_v2.py:375: UserWarning: The `lr` argument is deprecated, use `learning_rate` instead.\n",
            "  \"The `lr` argument is deprecated, use `learning_rate` instead.\")\n"
          ],
          "name": "stderr"
        },
        {
          "output_type": "stream",
          "text": [
            "Epoch 1/50\n",
            "1875/1875 [==============================] - 9s 4ms/step - loss: 0.0704 - accuracy: 0.8005\n",
            "Epoch 2/50\n",
            "1875/1875 [==============================] - 8s 4ms/step - loss: 0.0674 - accuracy: 0.8026\n",
            "Epoch 3/50\n",
            "1875/1875 [==============================] - 8s 4ms/step - loss: 0.0672 - accuracy: 0.8023\n",
            "Epoch 4/50\n",
            "1875/1875 [==============================] - 8s 4ms/step - loss: 0.0668 - accuracy: 0.8019\n",
            "Epoch 5/50\n",
            "1875/1875 [==============================] - 8s 4ms/step - loss: 0.0664 - accuracy: 0.8012\n",
            "Epoch 6/50\n",
            "1875/1875 [==============================] - 8s 4ms/step - loss: 0.0658 - accuracy: 0.8003\n",
            "Epoch 7/50\n",
            "1875/1875 [==============================] - 8s 4ms/step - loss: 0.0651 - accuracy: 0.7994\n",
            "Epoch 8/50\n",
            "1875/1875 [==============================] - 8s 4ms/step - loss: 0.0644 - accuracy: 0.7985\n",
            "Epoch 9/50\n",
            "1875/1875 [==============================] - 8s 4ms/step - loss: 0.0636 - accuracy: 0.7977\n",
            "Epoch 10/50\n",
            "1875/1875 [==============================] - 8s 4ms/step - loss: 0.0626 - accuracy: 0.7969\n",
            "Epoch 11/50\n",
            "1875/1875 [==============================] - 8s 4ms/step - loss: 0.0616 - accuracy: 0.7964\n",
            "Epoch 12/50\n",
            "1875/1875 [==============================] - 8s 4ms/step - loss: 0.0604 - accuracy: 0.7961\n",
            "Epoch 13/50\n",
            "1875/1875 [==============================] - 8s 4ms/step - loss: 0.0592 - accuracy: 0.7960\n",
            "Epoch 14/50\n",
            "1875/1875 [==============================] - 8s 4ms/step - loss: 0.0580 - accuracy: 0.7960\n",
            "Epoch 15/50\n",
            "1875/1875 [==============================] - 8s 4ms/step - loss: 0.0568 - accuracy: 0.7962\n",
            "Epoch 16/50\n",
            "1875/1875 [==============================] - 8s 4ms/step - loss: 0.0556 - accuracy: 0.7964\n",
            "Epoch 17/50\n",
            "1875/1875 [==============================] - 8s 4ms/step - loss: 0.0545 - accuracy: 0.7967\n",
            "Epoch 18/50\n",
            "1875/1875 [==============================] - 8s 4ms/step - loss: 0.0535 - accuracy: 0.7970\n",
            "Epoch 19/50\n",
            "1875/1875 [==============================] - 8s 4ms/step - loss: 0.0525 - accuracy: 0.7973\n",
            "Epoch 20/50\n",
            "1875/1875 [==============================] - 8s 4ms/step - loss: 0.0516 - accuracy: 0.7976\n",
            "Epoch 21/50\n",
            "1875/1875 [==============================] - 8s 4ms/step - loss: 0.0508 - accuracy: 0.7979\n",
            "Epoch 22/50\n",
            "1875/1875 [==============================] - 8s 4ms/step - loss: 0.0500 - accuracy: 0.7982\n",
            "Epoch 23/50\n",
            "1875/1875 [==============================] - 8s 4ms/step - loss: 0.0492 - accuracy: 0.7984\n",
            "Epoch 24/50\n",
            "1875/1875 [==============================] - 8s 4ms/step - loss: 0.0486 - accuracy: 0.7987\n",
            "Epoch 25/50\n",
            "1875/1875 [==============================] - 8s 4ms/step - loss: 0.0479 - accuracy: 0.7989\n",
            "Epoch 26/50\n",
            "1875/1875 [==============================] - 8s 4ms/step - loss: 0.0473 - accuracy: 0.7992\n",
            "Epoch 27/50\n",
            "1875/1875 [==============================] - 8s 4ms/step - loss: 0.0468 - accuracy: 0.7994\n",
            "Epoch 28/50\n",
            "1875/1875 [==============================] - 8s 4ms/step - loss: 0.0463 - accuracy: 0.7996\n",
            "Epoch 29/50\n",
            "1875/1875 [==============================] - 8s 4ms/step - loss: 0.0458 - accuracy: 0.7998\n",
            "Epoch 30/50\n",
            "1875/1875 [==============================] - 8s 4ms/step - loss: 0.0453 - accuracy: 0.8000\n",
            "Epoch 31/50\n",
            "1875/1875 [==============================] - 8s 4ms/step - loss: 0.0448 - accuracy: 0.8002\n",
            "Epoch 32/50\n",
            "1875/1875 [==============================] - 8s 4ms/step - loss: 0.0444 - accuracy: 0.8004\n",
            "Epoch 33/50\n",
            "1875/1875 [==============================] - 8s 4ms/step - loss: 0.0440 - accuracy: 0.8005\n",
            "Epoch 34/50\n",
            "1875/1875 [==============================] - 8s 4ms/step - loss: 0.0436 - accuracy: 0.8007\n",
            "Epoch 35/50\n",
            "1875/1875 [==============================] - 8s 4ms/step - loss: 0.0433 - accuracy: 0.8008\n",
            "Epoch 36/50\n",
            "1875/1875 [==============================] - 8s 4ms/step - loss: 0.0429 - accuracy: 0.8010\n",
            "Epoch 37/50\n",
            "1875/1875 [==============================] - 8s 4ms/step - loss: 0.0426 - accuracy: 0.8012\n",
            "Epoch 38/50\n",
            "1875/1875 [==============================] - 8s 4ms/step - loss: 0.0422 - accuracy: 0.8013\n",
            "Epoch 39/50\n",
            "1875/1875 [==============================] - 8s 4ms/step - loss: 0.0419 - accuracy: 0.8014\n",
            "Epoch 40/50\n",
            "1875/1875 [==============================] - 8s 4ms/step - loss: 0.0416 - accuracy: 0.8016\n",
            "Epoch 41/50\n",
            "1875/1875 [==============================] - 8s 4ms/step - loss: 0.0413 - accuracy: 0.8017\n",
            "Epoch 42/50\n",
            "1875/1875 [==============================] - 8s 4ms/step - loss: 0.0411 - accuracy: 0.8018\n",
            "Epoch 43/50\n",
            "1875/1875 [==============================] - 8s 4ms/step - loss: 0.0408 - accuracy: 0.8019\n",
            "Epoch 44/50\n",
            "1875/1875 [==============================] - 8s 4ms/step - loss: 0.0405 - accuracy: 0.8021\n",
            "Epoch 45/50\n",
            "1875/1875 [==============================] - 8s 4ms/step - loss: 0.0403 - accuracy: 0.8022\n",
            "Epoch 46/50\n",
            "1875/1875 [==============================] - 8s 4ms/step - loss: 0.0401 - accuracy: 0.8023\n",
            "Epoch 47/50\n",
            "1875/1875 [==============================] - 8s 4ms/step - loss: 0.0398 - accuracy: 0.8024\n",
            "Epoch 48/50\n",
            "1875/1875 [==============================] - 8s 4ms/step - loss: 0.0396 - accuracy: 0.8025\n",
            "Epoch 49/50\n",
            "1875/1875 [==============================] - 8s 4ms/step - loss: 0.0394 - accuracy: 0.8026\n",
            "Epoch 50/50\n",
            "1875/1875 [==============================] - 8s 4ms/step - loss: 0.0392 - accuracy: 0.8027\n"
          ],
          "name": "stdout"
        }
      ]
    },
    {
      "cell_type": "code",
      "metadata": {
        "id": "BaZX042Jcnlj"
      },
      "source": [
        "data_2 = []\n",
        "for i in range(1000) :\n",
        "  a = tf.random.normal([100])\n",
        "  data_2.append(a)\n",
        "data_2 = np.array(data_2)"
      ],
      "execution_count": 28,
      "outputs": []
    },
    {
      "cell_type": "code",
      "metadata": {
        "id": "9l8c0xexdA6g"
      },
      "source": [
        "y_pred = model.predict(data_2)"
      ],
      "execution_count": 29,
      "outputs": []
    },
    {
      "cell_type": "code",
      "metadata": {
        "colab": {
          "base_uri": "https://localhost:8080/",
          "height": 282
        },
        "id": "_Ubxe1_YdE6z",
        "outputId": "fa6ec734-1b69-40c4-cfa8-47784ff531c5"
      },
      "source": [
        "plt.imshow(tf.squeeze(y_pred[40]))"
      ],
      "execution_count": 31,
      "outputs": [
        {
          "output_type": "execute_result",
          "data": {
            "text/plain": [
              "<matplotlib.image.AxesImage at 0x7f4b48040250>"
            ]
          },
          "metadata": {
            "tags": []
          },
          "execution_count": 31
        },
        {
          "output_type": "display_data",
          "data": {
            "image/png": "[encoded data removed]",
            "text/plain": [
              "<Figure size 432x288 with 1 Axes>"
            ]
          },
          "metadata": {
            "tags": [],
            "needs_background": "light"
          }
        }
      ]
    },
    {
      "cell_type": "code",
      "metadata": {
        "colab": {
          "base_uri": "https://localhost:8080/",
          "height": 282
        },
        "id": "6YKPEbxudedn",
        "outputId": "e05a1136-1f95-4e67-fa38-dbc4404bd42d"
      },
      "source": [
        "pd.DataFrame(history.history).plot()"
      ],
      "execution_count": 32,
      "outputs": [
        {
          "output_type": "execute_result",
          "data": {
            "text/plain": [
              "<matplotlib.axes._subplots.AxesSubplot at 0x7f4b2e563610>"
            ]
          },
          "metadata": {
            "tags": []
          },
          "execution_count": 32
        },
        {
          "output_type": "display_data",
          "data": {
            "image/png": "[encoded data removed]",
            "text/plain": [
              "<Figure size 432x288 with 1 Axes>"
            ]
          },
          "metadata": {
            "tags": [],
            "needs_background": "light"
          }
        }
      ]
    }
  ]
}